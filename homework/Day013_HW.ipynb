{
 "cells": [
  {
   "cell_type": "markdown",
   "metadata": {},
   "source": [
    "# PTT 網路爬蟲實作練習\n",
    "\n",
    "\n",
    "* 能夠利用 Request + BeatifulSour 撰寫爬蟲，並存放到合適的資料結構\n"
   ]
  },
  {
   "cell_type": "markdown",
   "metadata": {},
   "source": [
    "## 作業目標\n",
    "\n",
    "根據範例 ，完成以下問題：\n",
    "\n",
    "* ① 印出最新文章的「作者」「標題」「時間」\n",
    "* ② 印出第一頁所有文章的「作者」「標題」「時間」\n"
   ]
  },
  {
   "cell_type": "markdown",
   "metadata": {},
   "source": [
    "### ① 印出最新文章的「作者」「標題」「時間」"
   ]
  },
  {
   "cell_type": "code",
   "execution_count": 14,
   "metadata": {},
   "outputs": [
    {
     "name": "stdout",
     "output_type": "stream",
     "text": [
      "[情報] 蘭德爾：羅賓遜不用擔心技犯，我會幫他付\n"
     ]
    }
   ],
   "source": [
    "import requests\n",
    "from bs4 import BeautifulSoup\n",
    "\n",
    "url = 'https://www.ptt.cc/bbs/NBA/index.html'\n",
    "r = requests.get(url)\n",
    "soup = BeautifulSoup(r.text, \"html5lib\")\n"
   ]
  },
  {
   "cell_type": "code",
   "execution_count": 27,
   "metadata": {
    "scrolled": true
   },
   "outputs": [
    {
     "name": "stdout",
     "output_type": "stream",
     "text": [
      "作者 PttGod\n",
      "標題 [情報] 蘭德爾：羅賓遜不用擔心技犯，我會幫他付\n",
      "3/09\n"
     ]
    }
   ],
   "source": [
    "print(\"作者\", soup.find_all(class_=\"author\")[0].text)\n",
    "print(\"標題\", soup.find_all(class_=\"title\")[0].text.replace(\"\\t\", \"\").replace(\"\\n\", \"\"))\n",
    "print(\"時間\", soup.find_all(class_=\"date\")[0].text.replace(\" \", \"\"))"
   ]
  },
  {
   "cell_type": "markdown",
   "metadata": {},
   "source": [
    "### ② 印出第一頁所有文章的「作者」「標題」「時間」"
   ]
  },
  {
   "cell_type": "code",
   "execution_count": 44,
   "metadata": {},
   "outputs": [
    {
     "name": "stdout",
     "output_type": "stream",
     "text": [
      "作者： PttGod\n",
      "標題： [情報] 蘭德爾：羅賓遜不用擔心技犯，我會幫他付\n",
      "時間： 3/09\n",
      "作者： Ginpunch\n",
      "標題： Re: [情報] SNY記者：一些籃網老將質疑阿特金森能否\n",
      "時間： 3/09\n",
      "作者： go190214\n",
      "標題： [新聞] 重建有功仍再見 波總幫說話\n",
      "時間： 3/09\n",
      "作者： PttGod\n",
      "標題： [花邊] 憤怒的獅王！詹姆斯發怒吼慶祝照自比雄獅\n",
      "時間： 3/09\n",
      "作者： timmyen\n",
      "標題： Re: [討論] LBJ現今擁有的成就已經能超過賈霸了嗎\n",
      "時間： 3/09\n",
      "作者： asdf1256\n",
      "標題： [新聞] 懊悔年少不懂理財！退役NBA巨星韋德脫手\n",
      "時間： 3/09\n",
      "作者： vogue38\n",
      "標題： Re: [討論] Curry是不是現今有成就也不被認可的球員?\n",
      "時間： 3/09\n",
      "作者： sezna\n",
      "標題： [情報] Shams:KD和KI下季不想在阿金執教下打球\n",
      "時間： 3/09\n",
      "作者： Acetoxy\n",
      "標題： [情報] James轉發Kuzma為其佩戴皇冠畫面：你個傻\n",
      "時間： 3/09\n",
      "作者： Vedan\n",
      "標題： [公告] 板規v6.8\n",
      "時間： 5/24\n",
      "作者： qazwsx879345\n",
      "標題： [公告] 版主上任相關事項 \n",
      "時間： 10/25\n",
      "作者： Acetoxy\n",
      "標題： [情報] SEASON Schedule 賽程 March 19–20\n",
      "時間： 3/02\n",
      "作者： Vedan\n",
      "標題： Fw: [公告] 即日起開放 NTU 信箱註冊帳號\n",
      "時間： 3/04\n",
      "作者： Vedan\n",
      "標題： [公告] 第一次被退文，可在三天後刪除退文\n",
      "時間： 3/09\n"
     ]
    }
   ],
   "source": [
    "for titles in soup.find_all(class_=\"r-ent\"):\n",
    "    print(\"作者：\", titles.find(class_=\"author\").text)\n",
    "    print(\"標題：\", titles.find(\"a\").text)\n",
    "    print(\"時間：\", titles.find(class_=\"date\").text.replace(\" \", \"\"))"
   ]
  },
  {
   "cell_type": "markdown",
   "metadata": {},
   "source": [
    "### ③ 試著爬爬看其他版的文章"
   ]
  },
  {
   "cell_type": "code",
   "execution_count": null,
   "metadata": {},
   "outputs": [],
   "source": [
    "'''\n",
    "Your Code\n",
    "'''"
   ]
  }
 ],
 "metadata": {
  "kernelspec": {
   "display_name": "Python 3",
   "language": "python",
   "name": "python3"
  },
  "language_info": {
   "codemirror_mode": {
    "name": "ipython",
    "version": 3
   },
   "file_extension": ".py",
   "mimetype": "text/x-python",
   "name": "python",
   "nbconvert_exporter": "python",
   "pygments_lexer": "ipython3",
   "version": "3.7.4"
  }
 },
 "nbformat": 4,
 "nbformat_minor": 2
}
