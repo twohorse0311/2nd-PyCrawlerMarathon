{
 "cells": [
  {
   "cell_type": "markdown",
   "metadata": {},
   "source": [
    "# Ettoday 網路爬蟲實作練習\n",
    "\n",
    "\n",
    "* 能夠利用 Request + BeatifulSour 撰寫爬蟲，並存放到合適的資料結構\n"
   ]
  },
  {
   "cell_type": "markdown",
   "metadata": {},
   "source": [
    "## 作業目標\n",
    "\n",
    "根據範例 ，完成以下問題：\n",
    "\n",
    "* ① 取出今天所有的發文\n",
    "* ② 如果想要依照類別分類，怎麼儲存會比較好？\n",
    "* ③ 哪一個類別的文章最多\n",
    "\n",
    "\n"
   ]
  },
  {
   "cell_type": "markdown",
   "metadata": {},
   "source": [
    "### ① 取出今天所有的發文"
   ]
  },
  {
   "cell_type": "code",
   "execution_count": 2,
   "metadata": {},
   "outputs": [],
   "source": [
    "import json\n",
    "import requests\n",
    "from bs4 import BeautifulSoup"
   ]
  },
  {
   "cell_type": "code",
   "execution_count": 98,
   "metadata": {
    "scrolled": true
   },
   "outputs": [
    {
     "name": "stdout",
     "output_type": "stream",
     "text": [
      "2020/03/08 23:56 MotoGP／少了GP刺激度一樣破表！卡達開幕站最速報\n",
      "2020/03/08 23:46 謝金燕自拍魔鬼級巨胸辣爆！　「為了紅很久」女神吐真實心聲\n",
      "2020/03/08 23:40 快訊／新竹深夜「有明顯震動」千人驚洗版：砰超大聲　巨響真相曝光！\n",
      "2020/03/08 23:39 澳音樂家來台狂咳？台女高音直播「還原現場」反擊：隨便扭曲一個人\n",
      "2020/03/08 23:33 陳念琴亞大區資格賽告捷　中華隊獲首張東奧拳擊門票\n",
      "2020/03/08 23:26 24小時內第二例　義大利大區首長感染新冠肺炎\n",
      "2020/03/08 23:18 一年偷拍1700則影片給自己看　變態男住飯把攝影機裝上電視\n",
      "2020/03/08 23:15 白宮「檢測延誤6週」　美國預估至少要準備20萬張病床\n",
      "2020/03/08 23:05 歐陽娜娜甜笑同框「型男乾爹」　原來是泰國男神…網驚呆：竟然認識！\n",
      "2020/03/08 23:02 女子倒頭栽埋進雪堆　雙腳空中擺動...滑雪者包包拿出鏟子搶救\n",
      "2020/03/08 22:58 女星被爆放棄中國國籍！　氣炸怒吼「我華夏兒女、炎黃子孫」\n",
      "2020/03/08 22:54 周迅34歲舊照曝「Q彈嫩肌快噴水」！　網驚：根本18歲少女\n",
      "2020/03/08 22:53 大雨響春雷「降雨熱區」出爐！冷2次驟降14℃直逼冷氣團　一張圖看一周天氣\n",
      "2020/03/08 22:42 南韓最年少感染者「僅4周大」！　一家5口住首爾東大門全中鏢\n",
      "2020/03/08 22:33 髮質越洗越糟！5個錯誤「洗髮習慣」，你中了幾個？\n",
      "2020/03/08 22:30 中職／對富邦更專注　羅傑斯嘗試投到好球帶\n",
      "2020/03/08 22:28 越做越上火！教練激推…5組超害羞「情侶健身術」　操出最邪惡線條\n",
      "2020/03/08 22:25 SBL／王子綱下半季再出發　重建肌力盼找回自信表現\n",
      "2020/03/08 22:10 中職／中信兄弟開幕戰先發　推派洋投4搶1\n",
      "2020/03/08 22:09 SBL／台啤又狂勝18分　陳國維盼台銀輸球氣勢不能掉\n",
      "2020/03/08 22:06 瑞士口罩被攔截！24萬片扣留德國邊境　緊急召見德大使\n",
      "2020/03/08 22:06 立委質詢提家庭自製口罩！許常德狂嗆：「廢物」浪費陳時中時間\n",
      "2020/03/08 22:00 快訊／潤寅案涉詐貸386億　王音之晚間遭羈押禁見\n",
      "2020/03/08 21:59 古董相冊「狂飄詭異臭味」還夾毛髮！　一查封面竟是「納粹人皮製」\n",
      "2020/03/08 21:44 維密超模坎達爾遭粉絲攔車求婚！　男子下跪秀鑽戒「她高EQ回應」網讚爆\n",
      "2020/03/08 21:42 HBL／宋瑞蓁拿新人后不滿足　盼攜手國中隊友完成冠軍夢\n",
      "2020/03/08 21:41 女神卡卡迷因笑到發芬！10支網友惡搞《Stupid Love》你跟上了嗎\n",
      "2020/03/08 21:39 李麗珍22歲女兒顏值超高！　「完美五官+逆天長腿」網友戀愛了\n",
      "2020/03/08 21:38 《家師父一體》陸星材、李相侖要畢業了…　成員們哭成淚海「2年來像一場美好旅行」\n",
      "2020/03/08 21:36 HBL／首季執教能仁就奪冠　李正豪嘆：教練不是人當的\n",
      "2020/03/08 21:36 中職／陳子豪猛打賞　中信兄弟16安擊退富邦\n",
      "2020/03/08 21:31 「與畫同行─葉敏瑞水彩畫個展」　台南新營文化中心展出\n",
      "2020/03/08 21:30 不斷更新／伊朗病毒爆發一天增743例49死！德國也暴增突破800人感染\n",
      "2020/03/08 21:25 吃不胖女孩的6個困擾：真的沒在炫耀！還可能面臨這些隱藏疾病\n",
      "2020/03/08 21:22 婦女節辦東森自然美產學高峰會　王令麟：翻轉全球美麗商模、從接地氣佈局國際\n",
      "2020/03/08 21:21 陳超明「家庭做口罩」被罵爆！但推的真是自製口罩套　鄉代PO文曝光\n",
      "2020/03/08 21:19 HBL／666！游艾喆決賽繳全能數據　拿MVP謙稱「運氣好」\n",
      "2020/03/08 21:14 帶腳踏車上公車不折疊和司機吵起來　高雄男三字經嗆警下場慘\n",
      "2020/03/08 21:10 HBL／史魯齊獲新人王　自曝患大頭症\n",
      "2020/03/08 20:59 草東沒有派對突宣布首度攻蛋...仔細一看「決定取消」粉崩潰哀嚎！\n",
      "2020/03/08 20:56 中職／味全龍實戰磨經驗　下周加開自辦熱身賽\n",
      "2020/03/08 20:56 HBL／奪冠爆哭擁抱教頭　王玥媞摘MVP爸爸也掉男兒淚\n",
      "2020/03/08 20:55 林吟蔚前任「男扮女裝盜領提款卡」！　被抓包荒謬理由她怒分手\n",
      "2020/03/08 20:53 SBL／裕隆苦吞2連敗　李啟億：必須善用布拉優勢\n",
      "2020/03/08 20:51 8度寒流拍潛水戲「腳完全不能動」　徐鈞浩漂走嚇歪：生命到這了\n",
      "2020/03/08 20:47 匯聚志工善的力量助弱勢　台南打造希望有愛安居無礙新生活\n",
      "2020/03/08 20:46 CITIZEN飛行錶「鈦」輕盈　戰鬥機面板帥炸\n",
      "2020/03/08 20:32 鑽石公主號船員回國「復陽」　印尼新增2確診、檢驗報告出爐\n",
      "2020/03/08 20:31 HBL／能仁踏平泰山　2連霸笑納隊史第4冠\n",
      "2020/03/08 20:28 沖水不蓋馬桶蓋…細菌噴滿！醫揭「2物品最髒」：下一位狂吸大腸桿菌\n",
      "2020/03/08 20:26 影／再看最後一眼！魔幻重建「中華商場」4月拆除　連廁所味道都神還原\n",
      "2020/03/08 20:16 SBL／璞園米勒歸化中華隊？　麥班達：先拿總冠軍再想\n",
      "2020/03/08 20:13 中職／高國麟2分砲　富邦2比6落後中信\n",
      "2020/03/08 20:08 中國女機上對空姐咳嗽　下秒遭「鎖喉壓制」…失控大吼：我犯什麼錯了！\n",
      "2020/03/08 20:06 Lisa、朴敏英染黑瞬間減齡！5個韓星同款「深茶棕」髮色　低調質感不用漂\n",
      "2020/03/08 20:02 拒當渣男吸引機！　巨蟹摩羯「遇爛人先檢討自己」認為自己不夠努力\n",
      "2020/03/08 19:56 亞緻飯店住房率3成關門　雙北飯店「剩10%」喊羨慕...憂倒閉潮！\n",
      "2020/03/08 19:50 SBL／璞園「新版Q」好威　米勒26分14籃板賞裕隆2連敗\n",
      "2020/03/08 19:47 「不用香水的女人沒未來」　《如懿傳》辛芷蕾代言文案惹議…親上火線道歉\n",
      "2020/03/08 19:44 第39例鑑定真相出爐！台大檢測基因定序　證實「台女在埃及感染」\n",
      "2020/03/08 19:43 阿Ben突然「我胸口悶」徐小可嚇傻：不要嚇我！　結果讓她傻眼\n",
      "2020/03/08 19:35 漫威12年創舉！《永恆族》確認有「印度寶萊塢歌舞大場面」\n",
      "2020/03/08 19:33 快訊／香港再添確診「病患死亡」！　累積達3死、114人感染\n",
      "2020/03/08 19:28 那邊癢猛抓！20歲女大生「短褲紅疹」飄臭魚味…醫驚：已經蔓延出來\n",
      "2020/03/08 19:24 新冠肺炎結合「2特性」！經歷過MERS、SARS　他研發疫苗直呼：職涯中最可怕\n",
      "2020/03/08 19:22 《爸爸去哪兒》民律長大了！　近照「91分髮型」笑翻網\n",
      "2020/03/08 19:22 影／重返中華商場！佳佳唱片行2代老闆感動「我回來了」：彷彿看見父母忙碌背影\n",
      "2020/03/08 19:21 紫藤花開了！紫色隧道夢幻登場　嘉義23個賞花打卡點浪漫追起來\n",
      "2020/03/08 19:21 金面山俯瞰大台北！張洛偍膽大岩石上跳躍　登山客嚇傻尖叫\n",
      "2020/03/08 19:17 HBL／平均2年6個月奪1冠「太久了」　淡商教頭盼球員更給力\n",
      "2020/03/08 19:16 租金補貼混亂、資格不公平？　內政部營建署認同回應了！\n",
      "2020/03/08 19:10 穿這雙去迪士尼最招搖！「高飛」驚喜現身adidas黑魂Ultra Boost\n",
      "2020/03/08 19:07 劉真驚傳腦出血原因曝光…手術風險8%！　鄭弘儀：算歹運嗎？心臟醫剖析\n",
      "2020/03/08 19:06 不需要向別人說明你是誰！朴敘俊員工被欺負...13集預告出爐有驚喜\n",
      "2020/03/08 19:06 夢幻組合！邀徐若瑄當製作人　何潤東：皮要繃緊一點了\n",
      "2020/03/08 19:01 中職／春訓練到凌晨一點　洪總：比賽期有可能\n",
      "2020/03/08 18:52 延壽國宅I區揮別海砂屋陰影　挑戰民生社區最高天際線\n",
      "2020/03/08 18:51 「小丑」傑瑞德雷托攀岩險喪命！　「安全繩破大洞」185公尺高空狂晃\n",
      "2020/03/08 18:50 韓職／三星獅回大邱共體時艱　英雄洋將直接從台灣返美\n",
      "2020/03/08 18:50 新冠肺炎疫情爆出逃潮！　亞洲資金湧入美國房地產「暴增500％」德國第2\n",
      "2020/03/08 18:49 HBL／淡商封后　舉重金牌夫妻舉起「我的冠軍女兒」\n",
      "2020/03/08 18:49 幕後／原料藥短缺恐漲30％　衛福部緊急因應曝光...業者盼暫停調整藥價\n",
      "2020/03/08 18:47 菲律賓男孩香蕉葉當筆記紙　努力「超越貧窮」字跡工整還畫火柴人\n",
      "2020/03/08 18:42 屁孩汪壞心學柯基「貼地走路」表情超欠扁！　百萬網笑倒：有夠故意\n",
      "2020/03/08 18:40 協助韓國瑜拚市政　江啟臣：找回人民對韓、國民黨的信心\n",
      "2020/03/08 18:39 來台期間有戴口罩！澳音樂家澄清...「遭指揮中心打臉」：錄影帶中都沒戴\n",
      "2020/03/08 18:37 台東19歲騎士49-1縣道自摔　當場無生命跡象搶救中\n",
      "2020/03/08 18:34 「用心」贏大陸超有錢劇組！《天橋上》超狂中華商場實景…導演吐實：搞死自己\n",
      "2020/03/08 18:29 兄弟戲拍到尷尬癌！導演無預警要求「抓鳥」涂善存嚇壞\n",
      "2020/03/08 18:26 BenQ推出「影音娛樂護眼螢幕」　獨家類瞳孔技術、音響級2.1聲道喇叭\n",
      "2020/03/08 18:26 HBL／王玥媞轟40分狂勝北一！　淡商隊史第10冠到手\n",
      "2020/03/08 18:22 不管有沒有習近平賀電　江啟臣：不會影響改革腳步\n",
      "2020/03/08 18:20 台東南迴公路「5車對撞」！目擊女30秒喊5次「天哪」...網又歪樓了\n",
      "2020/03/08 18:19 蔡英文推特追蹤破80萬　鄭文燦、賴清德也搶跟進啟用帳號\n",
      "2020/03/08 18:18 SBL／台銀雙老合體再等等　陳順詳9日有望回歸本季首戰\n",
      "2020/03/08 18:18 新竹狗園突爆火災！　他捨命衝火場救殘缺貓狗...仍有毛孩不幸罹難\n",
      "2020/03/08 18:17 「改變台北從陳佩琪開始」　柯文哲婦女節po文：做自己是平權第一步\n",
      "2020/03/08 18:15 影／社區自來貓主動撒嬌…「輕輕一蹭」竟惹大事故！　她瞬間被嫁禍\n",
      "2020/03/08 18:11 南迴香蘭路段5車連環撞　滿地零件碎片6人輕傷送醫\n",
      "2020/03/08 18:10 玩美相機聯名QUEEN SHOP　推出「越南旅拍風格濾鏡」\n"
     ]
    }
   ],
   "source": [
    "url = 'https://www.ettoday.net/news/news-list.htm'\n",
    "r = requests.get(url)\n",
    "soup = BeautifulSoup(r.text, \"html5lib\")\n",
    "for s in soup.find(class_=\"part_list_2\").find_all(\"h3\"):\n",
    "    if s.find(class_=\"date\").text[:10]==\"2020/03/08\":\n",
    "        print(s.find(class_=\"date\").text, s.find_all(\"a\")[0].text) # 後面這個要寫成 find_all 才可以變成列表去做提取。"
   ]
  },
  {
   "cell_type": "markdown",
   "metadata": {},
   "source": [
    "### ② 如果想要依照類別分類，怎麼儲存會比較好？"
   ]
  },
  {
   "cell_type": "code",
   "execution_count": 95,
   "metadata": {
    "scrolled": true
   },
   "outputs": [
    {
     "data": {
      "text/plain": [
       "<a href=\"/news/20200308/1662853.htm\" target=\"_blank\">快訊／新竹深夜傳詭異巨響！居民驚「有明顯震動」　千人洗版刷爆：砰超大聲</a>"
      ]
     },
     "execution_count": 95,
     "metadata": {},
     "output_type": "execute_result"
    }
   ],
   "source": [
    "soup.find(class_=\"part_list_2\").find_all(\"h3\")[0].find_all(\"a\")[-1]"
   ]
  },
  {
   "cell_type": "code",
   "execution_count": 99,
   "metadata": {},
   "outputs": [
    {
     "data": {
      "text/plain": [
       "[<h3><span class=\"date\">2020/03/08 23:56</span><em class=\"tag c_speed\">ET車雲</em><a href=\"/news/20200308/1662856.htm\" target=\"_blank\">MotoGP／少了GP刺激度一樣破表！卡達開幕站最速報</a></h3>,\n",
       " <h3><span class=\"date\">2020/03/08 23:46</span><em class=\"tag c_star\">影劇</em><a href=\"/news/20200308/1662852.htm\" target=\"_blank\">謝金燕自拍魔鬼級巨胸辣爆！　「為了紅很久」女神吐真實心聲</a></h3>,\n",
       " <h3><span class=\"date\">2020/03/08 23:40</span><em class=\"tag c_local\">地方</em><a href=\"/news/20200308/1662853.htm\" target=\"_blank\">快訊／新竹深夜「有明顯震動」千人驚洗版：砰超大聲　巨響真相曝光！</a></h3>,\n",
       " <h3><span class=\"date\">2020/03/08 23:39</span><em class=\"tag c_lifestyle\">生活</em><a href=\"/news/20200308/1662850.htm\" target=\"_blank\"><i class=\"icon_type_video\"></i>澳音樂家來台狂咳？台女高音直播「還原現場」反擊：隨便扭曲一個人</a></h3>,\n",
       " <h3><span class=\"date\">2020/03/08 23:33</span><em class=\"tag c_sport\">體育</em><a href=\"/news/20200308/1662851.htm\" target=\"_blank\">陳念琴亞大區資格賽告捷　中華隊獲首張東奧拳擊門票</a></h3>,\n",
       " <h3><span class=\"date\">2020/03/08 23:26</span><em class=\"tag c_global\">國際</em><a href=\"/news/20200308/1662847.htm\" target=\"_blank\">24小時內第二例　義大利大區首長感染新冠肺炎</a></h3>,\n",
       " <h3><span class=\"date\">2020/03/08 23:18</span><em class=\"tag c_china\">大陸</em><a href=\"/news/20200308/1662504.htm\" target=\"_blank\">一年偷拍1700則影片給自己看　變態男住飯把攝影機裝上電視</a></h3>,\n",
       " <h3><span class=\"date\">2020/03/08 23:15</span><em class=\"tag c_global\">國際</em><a href=\"/news/20200308/1662666.htm\" target=\"_blank\">白宮「檢測延誤6週」　美國預估至少要準備20萬張病床</a></h3>,\n",
       " <h3><span class=\"date\">2020/03/08 23:05</span><em class=\"tag c_star\">影劇</em><a href=\"/news/20200308/1662844.htm\" target=\"_blank\">歐陽娜娜甜笑同框「型男乾爹」　原來是泰國男神…網驚呆：竟然認識！</a></h3>,\n",
       " <h3><span class=\"date\">2020/03/08 23:02</span><em class=\"tag c_global\">國際</em><a href=\"/news/20200308/1662700.htm\" target=\"_blank\">女子倒頭栽埋進雪堆　雙腳空中擺動...滑雪者包包拿出鏟子搶救</a></h3>,\n",
       " <h3><span class=\"date\">2020/03/08 22:58</span><em class=\"tag c_star\">影劇</em><a href=\"/news/20200308/1662843.htm\" target=\"_blank\">女星被爆放棄中國國籍！　氣炸怒吼「我華夏兒女、炎黃子孫」</a></h3>,\n",
       " <h3><span class=\"date\">2020/03/08 22:54</span><em class=\"tag c_star\">影劇</em><a href=\"/news/20200308/1662837.htm\" target=\"_blank\">周迅34歲舊照曝「Q彈嫩肌快噴水」！　網驚：根本18歲少女</a></h3>,\n",
       " <h3><span class=\"date\">2020/03/08 22:53</span><em class=\"tag c_lifestyle\">生活</em><a href=\"/news/20200308/1662840.htm\" target=\"_blank\">大雨響春雷「降雨熱區」出爐！冷2次驟降14℃直逼冷氣團　一張圖看一周天氣</a></h3>,\n",
       " <h3><span class=\"date\">2020/03/08 22:42</span><em class=\"tag c_global\">國際</em><a href=\"/news/20200308/1662838.htm\" target=\"_blank\">南韓最年少感染者「僅4周大」！　一家5口住首爾東大門全中鏢</a></h3>,\n",
       " <h3><span class=\"date\">2020/03/08 22:33</span><em class=\"tag c_fashion\">時尚</em><a href=\"/news/20200308/1661581.htm\" target=\"_blank\">髮質越洗越糟！5個錯誤「洗髮習慣」，你中了幾個？</a></h3>,\n",
       " <h3><span class=\"date\">2020/03/08 22:30</span><em class=\"tag c_sport\">體育</em><a href=\"/news/20200308/1662835.htm\" target=\"_blank\">中職／對富邦更專注　羅傑斯嘗試投到好球帶</a></h3>,\n",
       " <h3><span class=\"date\">2020/03/08 22:28</span><em class=\"tag c_health\">健康</em><a href=\"/news/20200308/1660635.htm\" target=\"_blank\">越做越上火！教練激推…5組超害羞「情侶健身術」　操出最邪惡線條</a></h3>,\n",
       " <h3><span class=\"date\">2020/03/08 22:25</span><em class=\"tag c_sport\">體育</em><a href=\"/news/20200308/1662836.htm\" target=\"_blank\">SBL／王子綱下半季再出發　重建肌力盼找回自信表現</a></h3>,\n",
       " <h3><span class=\"date\">2020/03/08 22:10</span><em class=\"tag c_sport\">體育</em><a href=\"/news/20200308/1662832.htm\" target=\"_blank\">中職／中信兄弟開幕戰先發　推派洋投4搶1</a></h3>,\n",
       " <h3><span class=\"date\">2020/03/08 22:09</span><em class=\"tag c_sport\">體育</em><a href=\"/news/20200308/1662831.htm\" target=\"_blank\">SBL／台啤又狂勝18分　陳國維盼台銀輸球氣勢不能掉</a></h3>,\n",
       " <h3><span class=\"date\">2020/03/08 22:06</span><em class=\"tag c_global\">國際</em><a href=\"/news/20200308/1662830.htm\" target=\"_blank\">瑞士口罩被攔截！24萬片扣留德國邊境　緊急召見德大使</a></h3>,\n",
       " <h3><span class=\"date\">2020/03/08 22:06</span><em class=\"tag c_lifestyle\">生活</em><a href=\"/news/20200308/1662826.htm\" target=\"_blank\">立委質詢提家庭自製口罩！許常德狂嗆：「廢物」浪費陳時中時間</a></h3>,\n",
       " <h3><span class=\"date\">2020/03/08 22:00</span><em class=\"tag c_society\">社會</em><a href=\"/news/20200308/1662785.htm\" target=\"_blank\">快訊／潤寅案涉詐貸386億　王音之晚間遭羈押禁見</a></h3>,\n",
       " <h3><span class=\"date\">2020/03/08 21:59</span><em class=\"tag c_global\">國際</em><a href=\"/news/20200308/1662659.htm\" target=\"_blank\">古董相冊「狂飄詭異臭味」還夾毛髮！　一查封面竟是「納粹人皮製」</a></h3>,\n",
       " <h3><span class=\"date\">2020/03/08 21:44</span><em class=\"tag c_star\">影劇</em><a href=\"/news/20200308/1662822.htm\" target=\"_blank\">維密超模坎達爾遭粉絲攔車求婚！　男子下跪秀鑽戒「她高EQ回應」網讚爆</a></h3>,\n",
       " <h3><span class=\"date\">2020/03/08 21:42</span><em class=\"tag c_sport\">體育</em><a href=\"/news/20200308/1662829.htm\" target=\"_blank\">HBL／宋瑞蓁拿新人后不滿足　盼攜手國中隊友完成冠軍夢</a></h3>,\n",
       " <h3><span class=\"date\">2020/03/08 21:41</span><em class=\"tag c_star\">影劇</em><a href=\"/news/20200308/1662295.htm\" target=\"_blank\"><i class=\"icon_type_video\"></i>女神卡卡迷因笑到發芬！10支網友惡搞《Stupid Love》你跟上了嗎</a></h3>,\n",
       " <h3><span class=\"date\">2020/03/08 21:39</span><em class=\"tag c_star\">影劇</em><a href=\"/news/20200308/1662825.htm\" target=\"_blank\">李麗珍22歲女兒顏值超高！　「完美五官+逆天長腿」網友戀愛了</a></h3>,\n",
       " <h3><span class=\"date\">2020/03/08 21:38</span><em class=\"tag c_star\">影劇</em><a href=\"/news/20200308/1662824.htm\" target=\"_blank\"><i class=\"icon_type_video\"></i>《家師父一體》陸星材、李相侖要畢業了…　成員們哭成淚海「2年來像一場美好旅行」</a></h3>,\n",
       " <h3><span class=\"date\">2020/03/08 21:36</span><em class=\"tag c_sport\">體育</em><a href=\"/news/20200308/1662828.htm\" target=\"_blank\">HBL／首季執教能仁就奪冠　李正豪嘆：教練不是人當的</a></h3>,\n",
       " <h3><span class=\"date\">2020/03/08 21:36</span><em class=\"tag c_sport\">體育</em><a href=\"/news/20200308/1662815.htm\" target=\"_blank\">中職／陳子豪猛打賞　中信兄弟16安擊退富邦</a></h3>,\n",
       " <h3><span class=\"date\">2020/03/08 21:31</span><em class=\"tag c_lifestyle\">生活</em><a href=\"/news/20200308/1662823.htm\" target=\"_blank\">「與畫同行─葉敏瑞水彩畫個展」　台南新營文化中心展出</a></h3>,\n",
       " <h3><span class=\"date\">2020/03/08 21:30</span><em class=\"tag c_global\">國際</em><a href=\"/news/20200308/1662342.htm\" target=\"_blank\"><i class=\"icon_type_video\"></i>不斷更新／伊朗病毒爆發一天增743例49死！德國也暴增突破800人感染</a></h3>,\n",
       " <h3><span class=\"date\">2020/03/08 21:25</span><em class=\"tag c_fashion\">時尚</em><a href=\"/news/20200308/1660013.htm\" target=\"_blank\">吃不胖女孩的6個困擾：真的沒在炫耀！還可能面臨這些隱藏疾病</a></h3>,\n",
       " <h3><span class=\"date\">2020/03/08 21:22</span><em class=\"tag c_consuming\">消費</em><a href=\"/news/20200308/1662816.htm\" target=\"_blank\">婦女節辦東森自然美產學高峰會　王令麟：翻轉全球美麗商模、從接地氣佈局國際</a></h3>,\n",
       " <h3><span class=\"date\">2020/03/08 21:21</span><em class=\"tag c_news\">政治</em><a href=\"/news/20200308/1662817.htm\" target=\"_blank\">陳超明「家庭做口罩」被罵爆！但推的真是自製口罩套　鄉代PO文曝光</a></h3>,\n",
       " <h3><span class=\"date\">2020/03/08 21:19</span><em class=\"tag c_sport\">體育</em><a href=\"/news/20200308/1662818.htm\" target=\"_blank\">HBL／666！游艾喆決賽繳全能數據　拿MVP謙稱「運氣好」</a></h3>,\n",
       " <h3><span class=\"date\">2020/03/08 21:14</span><em class=\"tag c_society\">社會</em><a href=\"/news/20200308/1662718.htm\" target=\"_blank\"><i class=\"icon_type_video\"></i>帶腳踏車上公車不折疊和司機吵起來　高雄男三字經嗆警下場慘</a></h3>,\n",
       " <h3><span class=\"date\">2020/03/08 21:10</span><em class=\"tag c_sport\">體育</em><a href=\"/news/20200308/1662819.htm\" target=\"_blank\">HBL／史魯齊獲新人王　自曝患大頭症</a></h3>,\n",
       " <h3><span class=\"date\">2020/03/08 20:59</span><em class=\"tag c_star\">影劇</em><a href=\"/news/20200308/1662813.htm\" target=\"_blank\"><i class=\"icon_type_video\"></i>草東沒有派對突宣布首度攻蛋...仔細一看「決定取消」粉崩潰哀嚎！</a></h3>,\n",
       " <h3><span class=\"date\">2020/03/08 20:56</span><em class=\"tag c_sport\">體育</em><a href=\"/news/20200308/1662804.htm\" target=\"_blank\">中職／味全龍實戰磨經驗　下周加開自辦熱身賽</a></h3>,\n",
       " <h3><span class=\"date\">2020/03/08 20:56</span><em class=\"tag c_sport\">體育</em><a href=\"/news/20200308/1662797.htm\" target=\"_blank\">HBL／奪冠爆哭擁抱教頭　王玥媞摘MVP爸爸也掉男兒淚</a></h3>,\n",
       " <h3><span class=\"date\">2020/03/08 20:55</span><em class=\"tag c_star\">影劇</em><a href=\"/news/20200308/1662810.htm\" target=\"_blank\">林吟蔚前任「男扮女裝盜領提款卡」！　被抓包荒謬理由她怒分手</a></h3>,\n",
       " <h3><span class=\"date\">2020/03/08 20:53</span><em class=\"tag c_sport\">體育</em><a href=\"/news/20200308/1662812.htm\" target=\"_blank\">SBL／裕隆苦吞2連敗　李啟億：必須善用布拉優勢</a></h3>,\n",
       " <h3><span class=\"date\">2020/03/08 20:51</span><em class=\"tag c_star\">影劇</em><a href=\"/news/20200308/1662693.htm\" target=\"_blank\"><i class=\"icon_type_video\"></i>8度寒流拍潛水戲「腳完全不能動」　徐鈞浩漂走嚇歪：生命到這了</a></h3>,\n",
       " <h3><span class=\"date\">2020/03/08 20:47</span><em class=\"tag c_local\">地方</em><a href=\"/news/20200308/1662811.htm\" target=\"_blank\">匯聚志工善的力量助弱勢　台南打造希望有愛安居無礙新生活</a></h3>,\n",
       " <h3><span class=\"date\">2020/03/08 20:46</span><em class=\"tag c_fashion\">時尚</em><a href=\"/news/20200308/1659975.htm\" target=\"_blank\">CITIZEN飛行錶「鈦」輕盈　戰鬥機面板帥炸</a></h3>,\n",
       " <h3><span class=\"date\">2020/03/08 20:32</span><em class=\"tag c_global\">國際</em><a href=\"/news/20200308/1662806.htm\" target=\"_blank\">鑽石公主號船員回國「復陽」　印尼新增2確診、檢驗報告出爐</a></h3>,\n",
       " <h3><span class=\"date\">2020/03/08 20:31</span><em class=\"tag c_sport\">體育</em><a href=\"/news/20200308/1662808.htm\" target=\"_blank\">HBL／能仁踏平泰山　2連霸笑納隊史第4冠</a></h3>,\n",
       " <h3><span class=\"date\">2020/03/08 20:28</span><em class=\"tag c_health\">健康</em><a href=\"/news/20200308/1662125.htm\" target=\"_blank\">沖水不蓋馬桶蓋…細菌噴滿！醫揭「2物品最髒」：下一位狂吸大腸桿菌</a></h3>,\n",
       " <h3><span class=\"date\">2020/03/08 20:26</span><em class=\"tag c_lifestyle\">生活</em><a href=\"/news/20200308/1662793.htm\" target=\"_blank\"><i class=\"icon_type_video\"></i>影／再看最後一眼！魔幻重建「中華商場」4月拆除　連廁所味道都神還原</a></h3>,\n",
       " <h3><span class=\"date\">2020/03/08 20:16</span><em class=\"tag c_sport\">體育</em><a href=\"/news/20200308/1662803.htm\" target=\"_blank\">SBL／璞園米勒歸化中華隊？　麥班達：先拿總冠軍再想</a></h3>,\n",
       " <h3><span class=\"date\">2020/03/08 20:13</span><em class=\"tag c_sport\">體育</em><a href=\"/news/20200308/1662799.htm\" target=\"_blank\">中職／高國麟2分砲　富邦2比6落後中信</a></h3>,\n",
       " <h3><span class=\"date\">2020/03/08 20:08</span><em class=\"tag c_global\">國際</em><a href=\"/news/20200308/1662798.htm\" target=\"_blank\">中國女機上對空姐咳嗽　下秒遭「鎖喉壓制」…失控大吼：我犯什麼錯了！</a></h3>,\n",
       " <h3><span class=\"date\">2020/03/08 20:06</span><em class=\"tag c_fashion\">時尚</em><a href=\"/news/20200308/1660142.htm\" target=\"_blank\">Lisa、朴敏英染黑瞬間減齡！5個韓星同款「深茶棕」髮色　低調質感不用漂</a></h3>,\n",
       " <h3><span class=\"date\">2020/03/08 20:02</span><em class=\"tag c_star\">影劇</em><a href=\"/news/20200308/1662792.htm\" target=\"_blank\">拒當渣男吸引機！　巨蟹摩羯「遇爛人先檢討自己」認為自己不夠努力</a></h3>,\n",
       " <h3><span class=\"date\">2020/03/08 19:56</span><em class=\"tag c_house\">房產雲</em><a href=\"/news/20200308/1662584.htm\" target=\"_blank\">亞緻飯店住房率3成關門　雙北飯店「剩10%」喊羨慕...憂倒閉潮！</a></h3>,\n",
       " <h3><span class=\"date\">2020/03/08 19:50</span><em class=\"tag c_sport\">體育</em><a href=\"/news/20200308/1662796.htm\" target=\"_blank\">SBL／璞園「新版Q」好威　米勒26分14籃板賞裕隆2連敗</a></h3>,\n",
       " <h3><span class=\"date\">2020/03/08 19:47</span><em class=\"tag c_star\">影劇</em><a href=\"/news/20200308/1662795.htm\" target=\"_blank\">「不用香水的女人沒未來」　《如懿傳》辛芷蕾代言文案惹議…親上火線道歉</a></h3>,\n",
       " <h3><span class=\"date\">2020/03/08 19:44</span><em class=\"tag c_lifestyle\">生活</em><a href=\"/news/20200308/1662782.htm\" target=\"_blank\">第39例鑑定真相出爐！台大檢測基因定序　證實「台女在埃及感染」</a></h3>,\n",
       " <h3><span class=\"date\">2020/03/08 19:43</span><em class=\"tag c_star\">影劇</em><a href=\"/news/20200308/1662791.htm\" target=\"_blank\">阿Ben突然「我胸口悶」徐小可嚇傻：不要嚇我！　結果讓她傻眼</a></h3>,\n",
       " <h3><span class=\"date\">2020/03/08 19:35</span><em class=\"tag c_star\">影劇</em><a href=\"/news/20200308/1662789.htm\" target=\"_blank\"><i class=\"icon_type_video\"></i>漫威12年創舉！《永恆族》確認有「印度寶萊塢歌舞大場面」</a></h3>,\n",
       " <h3><span class=\"date\">2020/03/08 19:33</span><em class=\"tag c_china\">大陸</em><a href=\"/news/20200308/1662790.htm\" target=\"_blank\"><i class=\"icon_type_video\"></i>快訊／香港再添確診「病患死亡」！　累積達3死、114人感染</a></h3>,\n",
       " <h3><span class=\"date\">2020/03/08 19:28</span><em class=\"tag c_health\">健康</em><a href=\"/news/20200308/1661911.htm\" target=\"_blank\">那邊癢猛抓！20歲女大生「短褲紅疹」飄臭魚味…醫驚：已經蔓延出來</a></h3>,\n",
       " <h3><span class=\"date\">2020/03/08 19:24</span><em class=\"tag c_global\">國際</em><a href=\"/news/20200308/1662730.htm\" target=\"_blank\">新冠肺炎結合「2特性」！經歷過MERS、SARS　他研發疫苗直呼：職涯中最可怕</a></h3>,\n",
       " <h3><span class=\"date\">2020/03/08 19:22</span><em class=\"tag c_star\">影劇</em><a href=\"/news/20200308/1662786.htm\" target=\"_blank\">《爸爸去哪兒》民律長大了！　近照「91分髮型」笑翻網</a></h3>,\n",
       " <h3><span class=\"date\">2020/03/08 19:22</span><em class=\"tag c_lifestyle\">生活</em><a href=\"/news/20200308/1662712.htm\" target=\"_blank\"><i class=\"icon_type_video\"></i>影／重返中華商場！佳佳唱片行2代老闆感動「我回來了」：彷彿看見父母忙碌背影</a></h3>,\n",
       " <h3><span class=\"date\">2020/03/08 19:21</span><em class=\"tag c_travel\">旅遊</em><a href=\"/news/20200308/1662776.htm\" target=\"_blank\">紫藤花開了！紫色隧道夢幻登場　嘉義23個賞花打卡點浪漫追起來</a></h3>,\n",
       " <h3><span class=\"date\">2020/03/08 19:21</span><em class=\"tag c_star\">影劇</em><a href=\"/news/20200308/1662699.htm\" target=\"_blank\">金面山俯瞰大台北！張洛偍膽大岩石上跳躍　登山客嚇傻尖叫</a></h3>,\n",
       " <h3><span class=\"date\">2020/03/08 19:17</span><em class=\"tag c_sport\">體育</em><a href=\"/news/20200308/1662788.htm\" target=\"_blank\">HBL／平均2年6個月奪1冠「太久了」　淡商教頭盼球員更給力</a></h3>,\n",
       " <h3><span class=\"date\">2020/03/08 19:16</span><em class=\"tag c_house\">房產雲</em><a href=\"/news/20200308/1660912.htm\" target=\"_blank\">租金補貼混亂、資格不公平？　內政部營建署認同回應了！</a></h3>,\n",
       " <h3><span class=\"date\">2020/03/08 19:10</span><em class=\"tag c_fashion\">時尚</em><a href=\"/news/20200308/1660663.htm\" target=\"_blank\">穿這雙去迪士尼最招搖！「高飛」驚喜現身adidas黑魂Ultra Boost</a></h3>,\n",
       " <h3><span class=\"date\">2020/03/08 19:07</span><em class=\"tag c_star\">影劇</em><a href=\"/news/20200308/1662783.htm\" target=\"_blank\"><i class=\"icon_type_video\"></i>劉真驚傳腦出血原因曝光…手術風險8%！　鄭弘儀：算歹運嗎？心臟醫剖析</a></h3>,\n",
       " <h3><span class=\"date\">2020/03/08 19:06</span><em class=\"tag c_star\">影劇</em><a href=\"/news/20200308/1662766.htm\" target=\"_blank\"><i class=\"icon_type_video\"></i>不需要向別人說明你是誰！朴敘俊員工被欺負...13集預告出爐有驚喜</a></h3>,\n",
       " <h3><span class=\"date\">2020/03/08 19:06</span><em class=\"tag c_star\">影劇</em><a href=\"/news/20200308/1662698.htm\" target=\"_blank\"><i class=\"icon_type_video\"></i>夢幻組合！邀徐若瑄當製作人　何潤東：皮要繃緊一點了</a></h3>,\n",
       " <h3><span class=\"date\">2020/03/08 19:01</span><em class=\"tag c_sport\">體育</em><a href=\"/news/20200308/1662667.htm\" target=\"_blank\">中職／春訓練到凌晨一點　洪總：比賽期有可能</a></h3>,\n",
       " <h3><span class=\"date\">2020/03/08 18:52</span><em class=\"tag c_house\">房產雲</em><a href=\"/news/20200308/1662780.htm\" target=\"_blank\">延壽國宅I區揮別海砂屋陰影　挑戰民生社區最高天際線</a></h3>,\n",
       " <h3><span class=\"date\">2020/03/08 18:51</span><em class=\"tag c_star\">影劇</em><a href=\"/news/20200308/1662771.htm\" target=\"_blank\">「小丑」傑瑞德雷托攀岩險喪命！　「安全繩破大洞」185公尺高空狂晃</a></h3>,\n",
       " <h3><span class=\"date\">2020/03/08 18:50</span><em class=\"tag c_sport\">體育</em><a href=\"/news/20200308/1662781.htm\" target=\"_blank\">韓職／三星獅回大邱共體時艱　英雄洋將直接從台灣返美</a></h3>,\n",
       " <h3><span class=\"date\">2020/03/08 18:50</span><em class=\"tag c_house\">房產雲</em><a href=\"/news/20200308/1661952.htm\" target=\"_blank\">新冠肺炎疫情爆出逃潮！　亞洲資金湧入美國房地產「暴增500％」德國第2</a></h3>,\n",
       " <h3><span class=\"date\">2020/03/08 18:49</span><em class=\"tag c_sport\">體育</em><a href=\"/news/20200308/1662779.htm\" target=\"_blank\">HBL／淡商封后　舉重金牌夫妻舉起「我的冠軍女兒」</a></h3>,\n",
       " <h3><span class=\"date\">2020/03/08 18:49</span><em class=\"tag c_news\">政治</em><a href=\"/news/20200308/1662720.htm\" target=\"_blank\">幕後／原料藥短缺恐漲30％　衛福部緊急因應曝光...業者盼暫停調整藥價</a></h3>,\n",
       " <h3><span class=\"date\">2020/03/08 18:47</span><em class=\"tag c_global\">國際</em><a href=\"/news/20200308/1662682.htm\" target=\"_blank\">菲律賓男孩香蕉葉當筆記紙　努力「超越貧窮」字跡工整還畫火柴人</a></h3>,\n",
       " <h3><span class=\"date\">2020/03/08 18:42</span><em class=\"tag c_pet\">寵物動物</em><a href=\"/news/20200308/1662600.htm\" target=\"_blank\"><i class=\"icon_type_video\"></i>屁孩汪壞心學柯基「貼地走路」表情超欠扁！　百萬網笑倒：有夠故意</a></h3>,\n",
       " <h3><span class=\"date\">2020/03/08 18:40</span><em class=\"tag c_news\">政治</em><a href=\"/news/20200308/1662773.htm\" target=\"_blank\"><i class=\"icon_type_video\"></i>協助韓國瑜拚市政　江啟臣：找回人民對韓、國民黨的信心</a></h3>,\n",
       " <h3><span class=\"date\">2020/03/08 18:39</span><em class=\"tag c_lifestyle\">生活</em><a href=\"/news/20200308/1662775.htm\" target=\"_blank\">來台期間有戴口罩！澳音樂家澄清...「遭指揮中心打臉」：錄影帶中都沒戴</a></h3>,\n",
       " <h3><span class=\"date\">2020/03/08 18:37</span><em class=\"tag c_society\">社會</em><a href=\"/news/20200308/1662774.htm\" target=\"_blank\">台東19歲騎士49-1縣道自摔　當場無生命跡象搶救中</a></h3>,\n",
       " <h3><span class=\"date\">2020/03/08 18:34</span><em class=\"tag c_star\">影劇</em><a href=\"/news/20200308/1662691.htm\" target=\"_blank\"><i class=\"icon_type_video\"></i>「用心」贏大陸超有錢劇組！《天橋上》超狂中華商場實景…導演吐實：搞死自己</a></h3>,\n",
       " <h3><span class=\"date\">2020/03/08 18:29</span><em class=\"tag c_star\">影劇</em><a href=\"/news/20200308/1662772.htm\" target=\"_blank\"><i class=\"icon_type_video\"></i>兄弟戲拍到尷尬癌！導演無預警要求「抓鳥」涂善存嚇壞</a></h3>,\n",
       " <h3><span class=\"date\">2020/03/08 18:26</span><em class=\"tag c_teck3c\">3C家電</em><a href=\"/news/20200308/1662770.htm\" target=\"_blank\">BenQ推出「影音娛樂護眼螢幕」　獨家類瞳孔技術、音響級2.1聲道喇叭</a></h3>,\n",
       " <h3><span class=\"date\">2020/03/08 18:26</span><em class=\"tag c_sport\">體育</em><a href=\"/news/20200308/1662744.htm\" target=\"_blank\">HBL／王玥媞轟40分狂勝北一！　淡商隊史第10冠到手</a></h3>,\n",
       " <h3><span class=\"date\">2020/03/08 18:22</span><em class=\"tag c_news\">政治</em><a href=\"/news/20200308/1662763.htm\" target=\"_blank\"><i class=\"icon_type_video\"></i>不管有沒有習近平賀電　江啟臣：不會影響改革腳步</a></h3>,\n",
       " <h3><span class=\"date\">2020/03/08 18:20</span><em class=\"tag c_netsearch\">網搜</em><a href=\"/news/20200308/1662747.htm\" target=\"_blank\"><i class=\"icon_type_video\"></i>台東南迴公路「5車對撞」！目擊女30秒喊5次「天哪」...網又歪樓了</a></h3>,\n",
       " <h3><span class=\"date\">2020/03/08 18:19</span><em class=\"tag c_news\">政治</em><a href=\"/news/20200308/1662768.htm\" target=\"_blank\">蔡英文推特追蹤破80萬　鄭文燦、賴清德也搶跟進啟用帳號</a></h3>,\n",
       " <h3><span class=\"date\">2020/03/08 18:18</span><em class=\"tag c_sport\">體育</em><a href=\"/news/20200308/1662765.htm\" target=\"_blank\">SBL／台銀雙老合體再等等　陳順詳9日有望回歸本季首戰</a></h3>,\n",
       " <h3><span class=\"date\">2020/03/08 18:18</span><em class=\"tag c_pet\">寵物動物</em><a href=\"/news/20200308/1662672.htm\" target=\"_blank\">新竹狗園突爆火災！　他捨命衝火場救殘缺貓狗...仍有毛孩不幸罹難</a></h3>,\n",
       " <h3><span class=\"date\">2020/03/08 18:17</span><em class=\"tag c_news\">政治</em><a href=\"/news/20200308/1662767.htm\" target=\"_blank\">「改變台北從陳佩琪開始」　柯文哲婦女節po文：做自己是平權第一步</a></h3>,\n",
       " <h3><span class=\"date\">2020/03/08 18:15</span><em class=\"tag c_pet\">寵物動物</em><a href=\"/news/20200308/1662715.htm\" target=\"_blank\"><i class=\"icon_type_video\"></i>影／社區自來貓主動撒嬌…「輕輕一蹭」竟惹大事故！　她瞬間被嫁禍</a></h3>,\n",
       " <h3><span class=\"date\">2020/03/08 18:11</span><em class=\"tag c_society\">社會</em><a href=\"/news/20200308/1662761.htm\" target=\"_blank\"><i class=\"icon_type_video\"></i>南迴香蘭路段5車連環撞　滿地零件碎片6人輕傷送醫</a></h3>,\n",
       " <h3><span class=\"date\">2020/03/08 18:10</span><em class=\"tag c_teck3c\">3C家電</em><a href=\"/news/20200308/1662764.htm\" target=\"_blank\">玩美相機聯名QUEEN SHOP　推出「越南旅拍風格濾鏡」</a></h3>]"
      ]
     },
     "execution_count": 99,
     "metadata": {},
     "output_type": "execute_result"
    }
   ],
   "source": [
    "soup.find(class_=\"part_list_2\").find_all(\"h3\")"
   ]
  },
  {
   "cell_type": "code",
   "execution_count": 109,
   "metadata": {},
   "outputs": [
    {
     "data": {
      "text/plain": [
       "<h3><span class=\"date\">2020/03/08 23:46</span><em class=\"tag c_star\">影劇</em><a href=\"/news/20200308/1662852.htm\" target=\"_blank\">謝金燕自拍魔鬼級巨胸辣爆！　「為了紅很久」女神吐真實心聲</a></h3>"
      ]
     },
     "execution_count": 109,
     "metadata": {},
     "output_type": "execute_result"
    }
   ],
   "source": [
    "soup.find(class_=\"part_list_2\").find_all(\"h3\")[1]"
   ]
  },
  {
   "cell_type": "code",
   "execution_count": 116,
   "metadata": {},
   "outputs": [
    {
     "name": "stdout",
     "output_type": "stream",
     "text": [
      "{'ET車雲': [], '影劇': ['歐陽娜娜甜笑同框「型男乾爹」\\u3000原來是泰國男神…網驚呆：竟然認識！', '女星被爆放棄中國國籍！\\u3000氣炸怒吼「我華夏兒女、炎黃子孫」', '周迅34歲舊照曝「Q彈嫩肌快噴水」！\\u3000網驚：根本18歲少女', '維密超模坎達爾遭粉絲攔車求婚！\\u3000男子下跪秀鑽戒「她高EQ回應」網讚爆', '女神卡卡迷因笑到發芬！10支網友惡搞《Stupid Love》你跟上了嗎', '李麗珍22歲女兒顏值超高！\\u3000「完美五官+逆天長腿」網友戀愛了', '《家師父一體》陸星材、李相侖要畢業了…\\u3000成員們哭成淚海「2年來像一場美好旅行」', '草東沒有派對突宣布首度攻蛋...仔細一看「決定取消」粉崩潰哀嚎！', '林吟蔚前任「男扮女裝盜領提款卡」！\\u3000被抓包荒謬理由她怒分手', '8度寒流拍潛水戲「腳完全不能動」\\u3000徐鈞浩漂走嚇歪：生命到這了', '拒當渣男吸引機！\\u3000巨蟹摩羯「遇爛人先檢討自己」認為自己不夠努力', '「不用香水的女人沒未來」\\u3000《如懿傳》辛芷蕾代言文案惹議…親上火線道歉', '阿Ben突然「我胸口悶」徐小可嚇傻：不要嚇我！\\u3000結果讓她傻眼', '漫威12年創舉！《永恆族》確認有「印度寶萊塢歌舞大場面」', '《爸爸去哪兒》民律長大了！\\u3000近照「91分髮型」笑翻網', '金面山俯瞰大台北！張洛偍膽大岩石上跳躍\\u3000登山客嚇傻尖叫', '劉真驚傳腦出血原因曝光…手術風險8%！\\u3000鄭弘儀：算歹運嗎？心臟醫剖析', '不需要向別人說明你是誰！朴敘俊員工被欺負...13集預告出爐有驚喜', '夢幻組合！邀徐若瑄當製作人\\u3000何潤東：皮要繃緊一點了', '「小丑」傑瑞德雷托攀岩險喪命！\\u3000「安全繩破大洞」185公尺高空狂晃', '「用心」贏大陸超有錢劇組！《天橋上》超狂中華商場實景…導演吐實：搞死自己', '兄弟戲拍到尷尬癌！導演無預警要求「抓鳥」涂善存嚇壞'], '地方': ['匯聚志工善的力量助弱勢\\u3000台南打造希望有愛安居無礙新生活'], '生活': ['大雨響春雷「降雨熱區」出爐！冷2次驟降14℃直逼冷氣團\\u3000一張圖看一周天氣', '立委質詢提家庭自製口罩！許常德狂嗆：「廢物」浪費陳時中時間', '「與畫同行─葉敏瑞水彩畫個展」\\u3000台南新營文化中心展出', '影／再看最後一眼！魔幻重建「中華商場」4月拆除\\u3000連廁所味道都神還原', '第39例鑑定真相出爐！台大檢測基因定序\\u3000證實「台女在埃及感染」', '影／重返中華商場！佳佳唱片行2代老闆感動「我回來了」：彷彿看見父母忙碌背影', '來台期間有戴口罩！澳音樂家澄清...「遭指揮中心打臉」：錄影帶中都沒戴'], '體育': ['中職／對富邦更專注\\u3000羅傑斯嘗試投到好球帶', 'SBL／王子綱下半季再出發\\u3000重建肌力盼找回自信表現', '中職／中信兄弟開幕戰先發\\u3000推派洋投4搶1', 'SBL／台啤又狂勝18分\\u3000陳國維盼台銀輸球氣勢不能掉', 'HBL／宋瑞蓁拿新人后不滿足\\u3000盼攜手國中隊友完成冠軍夢', 'HBL／首季執教能仁就奪冠\\u3000李正豪嘆：教練不是人當的', '中職／陳子豪猛打賞\\u3000中信兄弟16安擊退富邦', 'HBL／666！游艾喆決賽繳全能數據\\u3000拿MVP謙稱「運氣好」', 'HBL／史魯齊獲新人王\\u3000自曝患大頭症', '中職／味全龍實戰磨經驗\\u3000下周加開自辦熱身賽', 'HBL／奪冠爆哭擁抱教頭\\u3000王玥媞摘MVP爸爸也掉男兒淚', 'SBL／裕隆苦吞2連敗\\u3000李啟億：必須善用布拉優勢', 'HBL／能仁踏平泰山\\u30002連霸笑納隊史第4冠', 'SBL／璞園米勒歸化中華隊？\\u3000麥班達：先拿總冠軍再想', '中職／高國麟2分砲\\u3000富邦2比6落後中信', 'SBL／璞園「新版Q」好威\\u3000米勒26分14籃板賞裕隆2連敗', 'HBL／平均2年6個月奪1冠「太久了」\\u3000淡商教頭盼球員更給力', '中職／春訓練到凌晨一點\\u3000洪總：比賽期有可能', '韓職／三星獅回大邱共體時艱\\u3000英雄洋將直接從台灣返美', 'HBL／淡商封后\\u3000舉重金牌夫妻舉起「我的冠軍女兒」', 'HBL／王玥媞轟40分狂勝北一！\\u3000淡商隊史第10冠到手', 'SBL／台銀雙老合體再等等\\u3000陳順詳9日有望回歸本季首戰'], '國際': ['白宮「檢測延誤6週」\\u3000美國預估至少要準備20萬張病床', '女子倒頭栽埋進雪堆\\u3000雙腳空中擺動...滑雪者包包拿出鏟子搶救', '南韓最年少感染者「僅4周大」！\\u3000一家5口住首爾東大門全中鏢', '瑞士口罩被攔截！24萬片扣留德國邊境\\u3000緊急召見德大使', '古董相冊「狂飄詭異臭味」還夾毛髮！\\u3000一查封面竟是「納粹人皮製」', '不斷更新／伊朗病毒爆發一天增743例49死！德國也暴增突破800人感染', '鑽石公主號船員回國「復陽」\\u3000印尼新增2確診、檢驗報告出爐', '中國女機上對空姐咳嗽\\u3000下秒遭「鎖喉壓制」…失控大吼：我犯什麼錯了！', '新冠肺炎結合「2特性」！經歷過MERS、SARS\\u3000他研發疫苗直呼：職涯中最可怕', '菲律賓男孩香蕉葉當筆記紙\\u3000努力「超越貧窮」字跡工整還畫火柴人'], '大陸': ['快訊／香港再添確診「病患死亡」！\\u3000累積達3死、114人感染'], '時尚': ['吃不胖女孩的6個困擾：真的沒在炫耀！還可能面臨這些隱藏疾病', 'CITIZEN飛行錶「鈦」輕盈\\u3000戰鬥機面板帥炸', 'Lisa、朴敏英染黑瞬間減齡！5個韓星同款「深茶棕」髮色\\u3000低調質感不用漂', '穿這雙去迪士尼最招搖！「高飛」驚喜現身adidas黑魂Ultra Boost'], '健康': ['沖水不蓋馬桶蓋…細菌噴滿！醫揭「2物品最髒」：下一位狂吸大腸桿菌', '那邊癢猛抓！20歲女大生「短褲紅疹」飄臭魚味…醫驚：已經蔓延出來'], '社會': ['帶腳踏車上公車不折疊和司機吵起來\\u3000高雄男三字經嗆警下場慘', '台東19歲騎士49-1縣道自摔\\u3000當場無生命跡象搶救中', '南迴香蘭路段5車連環撞\\u3000滿地零件碎片6人輕傷送醫'], '消費': [], '政治': ['幕後／原料藥短缺恐漲30％\\u3000衛福部緊急因應曝光...業者盼暫停調整藥價', '協助韓國瑜拚市政\\u3000江啟臣：找回人民對韓、國民黨的信心', '不管有沒有習近平賀電\\u3000江啟臣：不會影響改革腳步', '蔡英文推特追蹤破80萬\\u3000鄭文燦、賴清德也搶跟進啟用帳號', '「改變台北從陳佩琪開始」\\u3000柯文哲婦女節po文：做自己是平權第一步'], '房產雲': ['租金補貼混亂、資格不公平？\\u3000內政部營建署認同回應了！', '延壽國宅I區揮別海砂屋陰影\\u3000挑戰民生社區最高天際線', '新冠肺炎疫情爆出逃潮！\\u3000亞洲資金湧入美國房地產「暴增500％」德國第2'], '旅遊': [], '寵物動物': ['新竹狗園突爆火災！\\u3000他捨命衝火場救殘缺貓狗...仍有毛孩不幸罹難', '影／社區自來貓主動撒嬌…「輕輕一蹭」竟惹大事故！\\u3000她瞬間被嫁禍'], '3C家電': ['玩美相機聯名QUEEN SHOP\\u3000推出「越南旅拍風格濾鏡」'], '網搜': []}\n"
     ]
    }
   ],
   "source": [
    "a = {}\n",
    "for d in soup.find(class_=\"part_list_2\").find_all(\"h3\"):\n",
    "    if d.find(\"em\").string not in a:\n",
    "        a[d.find(\"em\").string] = []\n",
    "    else:\n",
    "        a[d.find(\"em\").string].append(d.find_all(\"a\")[0].text)\n",
    "print(a)"
   ]
  },
  {
   "cell_type": "markdown",
   "metadata": {},
   "source": [
    "### ③ 哪一個類別的文章最多"
   ]
  },
  {
   "cell_type": "code",
   "execution_count": 129,
   "metadata": {},
   "outputs": [],
   "source": [
    "b = a \n",
    "for i in b.keys():\n",
    "    b[i] = len(b[i])\n"
   ]
  },
  {
   "cell_type": "code",
   "execution_count": 138,
   "metadata": {},
   "outputs": [
    {
     "name": "stdout",
     "output_type": "stream",
     "text": [
      "{'ET車雲': 0, '影劇': 22, '地方': 1, '生活': 7, '體育': 22, '國際': 10, '大陸': 1, '時尚': 4, '健康': 2, '社會': 3, '消費': 0, '政治': 5, '房產雲': 3, '旅遊': 0, '寵物動物': 2, '3C家電': 1, '網搜': 0}\n"
     ]
    }
   ],
   "source": [
    "print(b)"
   ]
  },
  {
   "cell_type": "code",
   "execution_count": 139,
   "metadata": {
    "scrolled": true
   },
   "outputs": [
    {
     "name": "stdout",
     "output_type": "stream",
     "text": [
      "影劇\n",
      "體育\n"
     ]
    }
   ],
   "source": [
    "for i in b.keys():\n",
    "    if b[i] == max(b.values()):\n",
    "        print(i)"
   ]
  }
 ],
 "metadata": {
  "kernelspec": {
   "display_name": "Python 3",
   "language": "python",
   "name": "python3"
  },
  "language_info": {
   "codemirror_mode": {
    "name": "ipython",
    "version": 3
   },
   "file_extension": ".py",
   "mimetype": "text/x-python",
   "name": "python",
   "nbconvert_exporter": "python",
   "pygments_lexer": "ipython3",
   "version": "3.7.4"
  }
 },
 "nbformat": 4,
 "nbformat_minor": 2
}
